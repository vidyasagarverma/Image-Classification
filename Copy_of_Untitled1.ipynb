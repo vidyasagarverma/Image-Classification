{
  "nbformat": 4,
  "nbformat_minor": 0,
  "metadata": {
    "colab": {
      "name": "Copy of Untitled1.ipynb",
      "provenance": [],
      "collapsed_sections": [],
      "include_colab_link": true
    },
    "kernelspec": {
      "name": "python3",
      "display_name": "Python 3"
    }
  },
  "cells": [
    {
      "cell_type": "markdown",
      "metadata": {
        "id": "view-in-github",
        "colab_type": "text"
      },
      "source": [
        "<a href=\"https://colab.research.google.com/github/vidyasagarverma/Image-Classification/blob/master/Copy_of_Untitled1.ipynb\" target=\"_parent\"><img src=\"https://colab.research.google.com/assets/colab-badge.svg\" alt=\"Open In Colab\"/></a>"
      ]
    },
    {
      "cell_type": "code",
      "metadata": {
        "id": "ZLUNll9Hemau",
        "colab_type": "code",
        "colab": {
          "base_uri": "https://localhost:8080/",
          "height": 377
        },
        "outputId": "b90a2584-12c4-4d84-bf47-ab4a309ee6a5"
      },
      "source": [
        "!pip install tensorflow"
      ],
      "execution_count": null,
      "outputs": [
        {
          "output_type": "stream",
          "text": [
            "Requirement already satisfied: tensorflow in /usr/local/lib/python3.6/dist-packages (1.13.1)\n",
            "Requirement already satisfied: absl-py>=0.1.6 in /usr/local/lib/python3.6/dist-packages (from tensorflow) (0.7.1)\n",
            "Requirement already satisfied: wheel>=0.26 in /usr/local/lib/python3.6/dist-packages (from tensorflow) (0.33.1)\n",
            "Requirement already satisfied: termcolor>=1.1.0 in /usr/local/lib/python3.6/dist-packages (from tensorflow) (1.1.0)\n",
            "Requirement already satisfied: protobuf>=3.6.1 in /usr/local/lib/python3.6/dist-packages (from tensorflow) (3.7.1)\n",
            "Requirement already satisfied: gast>=0.2.0 in /usr/local/lib/python3.6/dist-packages (from tensorflow) (0.2.2)\n",
            "Requirement already satisfied: six>=1.10.0 in /usr/local/lib/python3.6/dist-packages (from tensorflow) (1.11.0)\n",
            "Requirement already satisfied: tensorboard<1.14.0,>=1.13.0 in /usr/local/lib/python3.6/dist-packages (from tensorflow) (1.13.1)\n",
            "Requirement already satisfied: tensorflow-estimator<1.14.0rc0,>=1.13.0 in /usr/local/lib/python3.6/dist-packages (from tensorflow) (1.13.0)\n",
            "Requirement already satisfied: grpcio>=1.8.6 in /usr/local/lib/python3.6/dist-packages (from tensorflow) (1.15.0)\n",
            "Requirement already satisfied: astor>=0.6.0 in /usr/local/lib/python3.6/dist-packages (from tensorflow) (0.7.1)\n",
            "Requirement already satisfied: keras-applications>=1.0.6 in /usr/local/lib/python3.6/dist-packages (from tensorflow) (1.0.7)\n",
            "Requirement already satisfied: numpy>=1.13.3 in /usr/local/lib/python3.6/dist-packages (from tensorflow) (1.14.6)\n",
            "Requirement already satisfied: keras-preprocessing>=1.0.5 in /usr/local/lib/python3.6/dist-packages (from tensorflow) (1.0.9)\n",
            "Requirement already satisfied: setuptools in /usr/local/lib/python3.6/dist-packages (from protobuf>=3.6.1->tensorflow) (40.9.0)\n",
            "Requirement already satisfied: werkzeug>=0.11.15 in /usr/local/lib/python3.6/dist-packages (from tensorboard<1.14.0,>=1.13.0->tensorflow) (0.15.2)\n",
            "Requirement already satisfied: markdown>=2.6.8 in /usr/local/lib/python3.6/dist-packages (from tensorboard<1.14.0,>=1.13.0->tensorflow) (3.1)\n",
            "Requirement already satisfied: mock>=2.0.0 in /usr/local/lib/python3.6/dist-packages (from tensorflow-estimator<1.14.0rc0,>=1.13.0->tensorflow) (2.0.0)\n",
            "Requirement already satisfied: h5py in /usr/local/lib/python3.6/dist-packages (from keras-applications>=1.0.6->tensorflow) (2.8.0)\n",
            "Requirement already satisfied: pbr>=0.11 in /usr/local/lib/python3.6/dist-packages (from mock>=2.0.0->tensorflow-estimator<1.14.0rc0,>=1.13.0->tensorflow) (5.1.3)\n"
          ],
          "name": "stdout"
        }
      ]
    },
    {
      "cell_type": "code",
      "metadata": {
        "id": "dsR79D56xlKS",
        "colab_type": "code",
        "colab": {}
      },
      "source": [
        "\n",
        "import tensorflow as tf\n",
        "mnist = tf.keras.datasets.mnist\n",
        "\n"
      ],
      "execution_count": null,
      "outputs": []
    },
    {
      "cell_type": "code",
      "metadata": {
        "id": "ur1xVLGuynvJ",
        "colab_type": "code",
        "colab": {}
      },
      "source": [
        ""
      ],
      "execution_count": null,
      "outputs": []
    },
    {
      "cell_type": "code",
      "metadata": {
        "id": "USIlHjJ94CNX",
        "colab_type": "code",
        "colab": {}
      },
      "source": [
        ""
      ],
      "execution_count": null,
      "outputs": []
    },
    {
      "cell_type": "code",
      "metadata": {
        "id": "zL7LxfQygWpT",
        "colab_type": "code",
        "colab": {}
      },
      "source": [
        "import tensorflow as tf\n",
        "import numpy as np\n",
        "from tensorflow import keras"
      ],
      "execution_count": null,
      "outputs": []
    },
    {
      "cell_type": "code",
      "metadata": {
        "id": "Es6sCiEogerU",
        "colab_type": "code",
        "colab": {
          "base_uri": "https://localhost:8080/",
          "height": 88
        },
        "outputId": "a6cd9dfe-2993-4bf5-ea54-4d04b5e54bd7"
      },
      "source": [
        "model = tf.keras.Sequential([keras.layers.Dense(units=1, input_shape=[1])])"
      ],
      "execution_count": null,
      "outputs": [
        {
          "output_type": "stream",
          "text": [
            "WARNING:tensorflow:From /usr/local/lib/python3.6/dist-packages/tensorflow/python/ops/resource_variable_ops.py:435: colocate_with (from tensorflow.python.framework.ops) is deprecated and will be removed in a future version.\n",
            "Instructions for updating:\n",
            "Colocations handled automatically by placer.\n"
          ],
          "name": "stdout"
        }
      ]
    },
    {
      "cell_type": "code",
      "metadata": {
        "id": "idLEDyhhhFWf",
        "colab_type": "code",
        "colab": {
          "base_uri": "https://localhost:8080/",
          "height": 88
        },
        "outputId": "8d5f0027-4ba1-4fed-b610-6829e059e095"
      },
      "source": [
        "model.compile(optimizer='sgd', loss='mean_squared_error')"
      ],
      "execution_count": null,
      "outputs": [
        {
          "output_type": "stream",
          "text": [
            "WARNING:tensorflow:From /usr/local/lib/python3.6/dist-packages/tensorflow/python/keras/utils/losses_utils.py:170: to_float (from tensorflow.python.ops.math_ops) is deprecated and will be removed in a future version.\n",
            "Instructions for updating:\n",
            "Use tf.cast instead.\n"
          ],
          "name": "stdout"
        }
      ]
    },
    {
      "cell_type": "code",
      "metadata": {
        "id": "NtizxxKuhnxU",
        "colab_type": "code",
        "colab": {}
      },
      "source": [
        "xs = np.array([-1.0,  0.0, 1.0, 2.0, 3.0, 4.0], dtype=float)\n",
        "ys = np.array([-3.0, -1.0, 1.0, 3.0, 5.0, 7.0], dtype=float)"
      ],
      "execution_count": null,
      "outputs": []
    },
    {
      "cell_type": "code",
      "metadata": {
        "id": "5Lu8RZ-Lhwpl",
        "colab_type": "code",
        "colab": {
          "base_uri": "https://localhost:8080/",
          "height": 17105
        },
        "outputId": "05a7fde0-94bc-4a51-e690-ed74e8dc3c46"
      },
      "source": [
        "model.fit(xs, ys, epochs=500)"
      ],
      "execution_count": null,
      "outputs": [
        {
          "output_type": "stream",
          "text": [
            "WARNING:tensorflow:From /usr/local/lib/python3.6/dist-packages/tensorflow/python/ops/math_ops.py:3066: to_int32 (from tensorflow.python.ops.math_ops) is deprecated and will be removed in a future version.\n",
            "Instructions for updating:\n",
            "Use tf.cast instead.\n",
            "Epoch 1/500\n",
            "6/6 [==============================] - 0s 15ms/sample - loss: 1.9369\n",
            "Epoch 2/500\n",
            "6/6 [==============================] - 0s 727us/sample - loss: 1.6669\n",
            "Epoch 3/500\n",
            "6/6 [==============================] - 0s 261us/sample - loss: 1.4515\n",
            "Epoch 4/500\n",
            "6/6 [==============================] - 0s 200us/sample - loss: 1.2792\n",
            "Epoch 5/500\n",
            "6/6 [==============================] - 0s 196us/sample - loss: 1.1408\n",
            "Epoch 6/500\n",
            "6/6 [==============================] - 0s 247us/sample - loss: 1.0291\n",
            "Epoch 7/500\n",
            "6/6 [==============================] - 0s 356us/sample - loss: 0.9386\n",
            "Epoch 8/500\n",
            "6/6 [==============================] - 0s 249us/sample - loss: 0.8647\n",
            "Epoch 9/500\n",
            "6/6 [==============================] - 0s 246us/sample - loss: 0.8040\n",
            "Epoch 10/500\n",
            "6/6 [==============================] - 0s 287us/sample - loss: 0.7537\n",
            "Epoch 11/500\n",
            "6/6 [==============================] - 0s 226us/sample - loss: 0.7116\n",
            "Epoch 12/500\n",
            "6/6 [==============================] - 0s 259us/sample - loss: 0.6761\n",
            "Epoch 13/500\n",
            "6/6 [==============================] - 0s 258us/sample - loss: 0.6457\n",
            "Epoch 14/500\n",
            "6/6 [==============================] - 0s 194us/sample - loss: 0.6195\n",
            "Epoch 15/500\n",
            "6/6 [==============================] - 0s 238us/sample - loss: 0.5966\n",
            "Epoch 16/500\n",
            "6/6 [==============================] - 0s 173us/sample - loss: 0.5763\n",
            "Epoch 17/500\n",
            "6/6 [==============================] - 0s 217us/sample - loss: 0.5582\n",
            "Epoch 18/500\n",
            "6/6 [==============================] - 0s 211us/sample - loss: 0.5417\n",
            "Epoch 19/500\n",
            "6/6 [==============================] - 0s 195us/sample - loss: 0.5267\n",
            "Epoch 20/500\n",
            "6/6 [==============================] - 0s 249us/sample - loss: 0.5128\n",
            "Epoch 21/500\n",
            "6/6 [==============================] - 0s 240us/sample - loss: 0.4999\n",
            "Epoch 22/500\n",
            "6/6 [==============================] - 0s 256us/sample - loss: 0.4877\n",
            "Epoch 23/500\n",
            "6/6 [==============================] - 0s 236us/sample - loss: 0.4762\n",
            "Epoch 24/500\n",
            "6/6 [==============================] - 0s 248us/sample - loss: 0.4652\n",
            "Epoch 25/500\n",
            "6/6 [==============================] - 0s 236us/sample - loss: 0.4548\n",
            "Epoch 26/500\n",
            "6/6 [==============================] - 0s 246us/sample - loss: 0.4447\n",
            "Epoch 27/500\n",
            "6/6 [==============================] - 0s 252us/sample - loss: 0.4350\n",
            "Epoch 28/500\n",
            "6/6 [==============================] - 0s 235us/sample - loss: 0.4256\n",
            "Epoch 29/500\n",
            "6/6 [==============================] - 0s 263us/sample - loss: 0.4165\n",
            "Epoch 30/500\n",
            "6/6 [==============================] - 0s 260us/sample - loss: 0.4077\n",
            "Epoch 31/500\n",
            "6/6 [==============================] - 0s 287us/sample - loss: 0.3991\n",
            "Epoch 32/500\n",
            "6/6 [==============================] - 0s 257us/sample - loss: 0.3907\n",
            "Epoch 33/500\n",
            "6/6 [==============================] - 0s 296us/sample - loss: 0.3825\n",
            "Epoch 34/500\n",
            "6/6 [==============================] - 0s 258us/sample - loss: 0.3746\n",
            "Epoch 35/500\n",
            "6/6 [==============================] - 0s 306us/sample - loss: 0.3668\n",
            "Epoch 36/500\n",
            "6/6 [==============================] - 0s 322us/sample - loss: 0.3592\n",
            "Epoch 37/500\n",
            "6/6 [==============================] - 0s 309us/sample - loss: 0.3518\n",
            "Epoch 38/500\n",
            "6/6 [==============================] - 0s 282us/sample - loss: 0.3445\n",
            "Epoch 39/500\n",
            "6/6 [==============================] - 0s 265us/sample - loss: 0.3374\n",
            "Epoch 40/500\n",
            "6/6 [==============================] - 0s 279us/sample - loss: 0.3304\n",
            "Epoch 41/500\n",
            "6/6 [==============================] - 0s 302us/sample - loss: 0.3236\n",
            "Epoch 42/500\n",
            "6/6 [==============================] - 0s 306us/sample - loss: 0.3170\n",
            "Epoch 43/500\n",
            "6/6 [==============================] - 0s 302us/sample - loss: 0.3104\n",
            "Epoch 44/500\n",
            "6/6 [==============================] - 0s 271us/sample - loss: 0.3041\n",
            "Epoch 45/500\n",
            "6/6 [==============================] - 0s 304us/sample - loss: 0.2978\n",
            "Epoch 46/500\n",
            "6/6 [==============================] - 0s 283us/sample - loss: 0.2917\n",
            "Epoch 47/500\n",
            "6/6 [==============================] - 0s 301us/sample - loss: 0.2857\n",
            "Epoch 48/500\n",
            "6/6 [==============================] - 0s 253us/sample - loss: 0.2798\n",
            "Epoch 49/500\n",
            "6/6 [==============================] - 0s 241us/sample - loss: 0.2741\n",
            "Epoch 50/500\n",
            "6/6 [==============================] - 0s 274us/sample - loss: 0.2684\n",
            "Epoch 51/500\n",
            "6/6 [==============================] - 0s 317us/sample - loss: 0.2629\n",
            "Epoch 52/500\n",
            "6/6 [==============================] - 0s 253us/sample - loss: 0.2575\n",
            "Epoch 53/500\n",
            "6/6 [==============================] - 0s 256us/sample - loss: 0.2522\n",
            "Epoch 54/500\n",
            "6/6 [==============================] - 0s 260us/sample - loss: 0.2470\n",
            "Epoch 55/500\n",
            "6/6 [==============================] - 0s 286us/sample - loss: 0.2420\n",
            "Epoch 56/500\n",
            "6/6 [==============================] - 0s 290us/sample - loss: 0.2370\n",
            "Epoch 57/500\n",
            "6/6 [==============================] - 0s 266us/sample - loss: 0.2321\n",
            "Epoch 58/500\n",
            "6/6 [==============================] - 0s 291us/sample - loss: 0.2274\n",
            "Epoch 59/500\n",
            "6/6 [==============================] - 0s 274us/sample - loss: 0.2227\n",
            "Epoch 60/500\n",
            "6/6 [==============================] - 0s 281us/sample - loss: 0.2181\n",
            "Epoch 61/500\n",
            "6/6 [==============================] - 0s 375us/sample - loss: 0.2136\n",
            "Epoch 62/500\n",
            "6/6 [==============================] - 0s 294us/sample - loss: 0.2092\n",
            "Epoch 63/500\n",
            "6/6 [==============================] - 0s 404us/sample - loss: 0.2049\n",
            "Epoch 64/500\n",
            "6/6 [==============================] - 0s 410us/sample - loss: 0.2007\n",
            "Epoch 65/500\n",
            "6/6 [==============================] - 0s 310us/sample - loss: 0.1966\n",
            "Epoch 66/500\n",
            "6/6 [==============================] - 0s 316us/sample - loss: 0.1926\n",
            "Epoch 67/500\n",
            "6/6 [==============================] - 0s 428us/sample - loss: 0.1886\n",
            "Epoch 68/500\n",
            "6/6 [==============================] - 0s 254us/sample - loss: 0.1847\n",
            "Epoch 69/500\n",
            "6/6 [==============================] - 0s 434us/sample - loss: 0.1809\n",
            "Epoch 70/500\n",
            "6/6 [==============================] - 0s 388us/sample - loss: 0.1772\n",
            "Epoch 71/500\n",
            "6/6 [==============================] - 0s 284us/sample - loss: 0.1736\n",
            "Epoch 72/500\n",
            "6/6 [==============================] - 0s 331us/sample - loss: 0.1700\n",
            "Epoch 73/500\n",
            "6/6 [==============================] - 0s 309us/sample - loss: 0.1665\n",
            "Epoch 74/500\n",
            "6/6 [==============================] - 0s 398us/sample - loss: 0.1631\n",
            "Epoch 75/500\n",
            "6/6 [==============================] - 0s 263us/sample - loss: 0.1598\n",
            "Epoch 76/500\n",
            "6/6 [==============================] - 0s 267us/sample - loss: 0.1565\n",
            "Epoch 77/500\n",
            "6/6 [==============================] - 0s 301us/sample - loss: 0.1533\n",
            "Epoch 78/500\n",
            "6/6 [==============================] - 0s 289us/sample - loss: 0.1501\n",
            "Epoch 79/500\n",
            "6/6 [==============================] - 0s 287us/sample - loss: 0.1470\n",
            "Epoch 80/500\n",
            "6/6 [==============================] - 0s 255us/sample - loss: 0.1440\n",
            "Epoch 81/500\n",
            "6/6 [==============================] - 0s 357us/sample - loss: 0.1411\n",
            "Epoch 82/500\n",
            "6/6 [==============================] - 0s 261us/sample - loss: 0.1382\n",
            "Epoch 83/500\n",
            "6/6 [==============================] - 0s 262us/sample - loss: 0.1353\n",
            "Epoch 84/500\n",
            "6/6 [==============================] - 0s 290us/sample - loss: 0.1325\n",
            "Epoch 85/500\n",
            "6/6 [==============================] - 0s 305us/sample - loss: 0.1298\n",
            "Epoch 86/500\n",
            "6/6 [==============================] - 0s 289us/sample - loss: 0.1272\n",
            "Epoch 87/500\n",
            "6/6 [==============================] - 0s 252us/sample - loss: 0.1245\n",
            "Epoch 88/500\n",
            "6/6 [==============================] - 0s 250us/sample - loss: 0.1220\n",
            "Epoch 89/500\n",
            "6/6 [==============================] - 0s 265us/sample - loss: 0.1195\n",
            "Epoch 90/500\n",
            "6/6 [==============================] - 0s 282us/sample - loss: 0.1170\n",
            "Epoch 91/500\n",
            "6/6 [==============================] - 0s 311us/sample - loss: 0.1146\n",
            "Epoch 92/500\n",
            "6/6 [==============================] - 0s 298us/sample - loss: 0.1123\n",
            "Epoch 93/500\n",
            "6/6 [==============================] - 0s 262us/sample - loss: 0.1100\n",
            "Epoch 94/500\n",
            "6/6 [==============================] - 0s 268us/sample - loss: 0.1077\n",
            "Epoch 95/500\n",
            "6/6 [==============================] - 0s 263us/sample - loss: 0.1055\n",
            "Epoch 96/500\n",
            "6/6 [==============================] - 0s 237us/sample - loss: 0.1033\n",
            "Epoch 97/500\n",
            "6/6 [==============================] - 0s 263us/sample - loss: 0.1012\n",
            "Epoch 98/500\n",
            "6/6 [==============================] - 0s 270us/sample - loss: 0.0991\n",
            "Epoch 99/500\n",
            "6/6 [==============================] - 0s 264us/sample - loss: 0.0971\n",
            "Epoch 100/500\n",
            "6/6 [==============================] - 0s 307us/sample - loss: 0.0951\n",
            "Epoch 101/500\n",
            "6/6 [==============================] - 0s 226us/sample - loss: 0.0931\n",
            "Epoch 102/500\n",
            "6/6 [==============================] - 0s 302us/sample - loss: 0.0912\n",
            "Epoch 103/500\n",
            "6/6 [==============================] - 0s 287us/sample - loss: 0.0893\n",
            "Epoch 104/500\n",
            "6/6 [==============================] - 0s 307us/sample - loss: 0.0875\n",
            "Epoch 105/500\n",
            "6/6 [==============================] - 0s 240us/sample - loss: 0.0857\n",
            "Epoch 106/500\n",
            "6/6 [==============================] - 0s 251us/sample - loss: 0.0840\n",
            "Epoch 107/500\n",
            "6/6 [==============================] - 0s 296us/sample - loss: 0.0822\n",
            "Epoch 108/500\n",
            "6/6 [==============================] - 0s 1ms/sample - loss: 0.0805\n",
            "Epoch 109/500\n",
            "6/6 [==============================] - 0s 460us/sample - loss: 0.0789\n",
            "Epoch 110/500\n",
            "6/6 [==============================] - 0s 347us/sample - loss: 0.0773\n",
            "Epoch 111/500\n",
            "6/6 [==============================] - 0s 293us/sample - loss: 0.0757\n",
            "Epoch 112/500\n",
            "6/6 [==============================] - 0s 304us/sample - loss: 0.0741\n",
            "Epoch 113/500\n",
            "6/6 [==============================] - 0s 408us/sample - loss: 0.0726\n",
            "Epoch 114/500\n",
            "6/6 [==============================] - 0s 450us/sample - loss: 0.0711\n",
            "Epoch 115/500\n",
            "6/6 [==============================] - 0s 467us/sample - loss: 0.0697\n",
            "Epoch 116/500\n",
            "6/6 [==============================] - 0s 292us/sample - loss: 0.0682\n",
            "Epoch 117/500\n",
            "6/6 [==============================] - 0s 372us/sample - loss: 0.0668\n",
            "Epoch 118/500\n",
            "6/6 [==============================] - 0s 400us/sample - loss: 0.0654\n",
            "Epoch 119/500\n",
            "6/6 [==============================] - 0s 363us/sample - loss: 0.0641\n",
            "Epoch 120/500\n",
            "6/6 [==============================] - 0s 373us/sample - loss: 0.0628\n",
            "Epoch 121/500\n",
            "6/6 [==============================] - 0s 445us/sample - loss: 0.0615\n",
            "Epoch 122/500\n",
            "6/6 [==============================] - 0s 281us/sample - loss: 0.0602\n",
            "Epoch 123/500\n",
            "6/6 [==============================] - 0s 375us/sample - loss: 0.0590\n",
            "Epoch 124/500\n",
            "6/6 [==============================] - 0s 414us/sample - loss: 0.0578\n",
            "Epoch 125/500\n",
            "6/6 [==============================] - 0s 303us/sample - loss: 0.0566\n",
            "Epoch 126/500\n",
            "6/6 [==============================] - 0s 256us/sample - loss: 0.0554\n",
            "Epoch 127/500\n",
            "6/6 [==============================] - 0s 278us/sample - loss: 0.0543\n",
            "Epoch 128/500\n",
            "6/6 [==============================] - 0s 290us/sample - loss: 0.0532\n",
            "Epoch 129/500\n",
            "6/6 [==============================] - 0s 388us/sample - loss: 0.0521\n",
            "Epoch 130/500\n",
            "6/6 [==============================] - 0s 285us/sample - loss: 0.0510\n",
            "Epoch 131/500\n",
            "6/6 [==============================] - 0s 306us/sample - loss: 0.0500\n",
            "Epoch 132/500\n",
            "6/6 [==============================] - 0s 328us/sample - loss: 0.0489\n",
            "Epoch 133/500\n",
            "6/6 [==============================] - 0s 322us/sample - loss: 0.0479\n",
            "Epoch 134/500\n",
            "6/6 [==============================] - 0s 423us/sample - loss: 0.0470\n",
            "Epoch 135/500\n",
            "6/6 [==============================] - 0s 315us/sample - loss: 0.0460\n",
            "Epoch 136/500\n",
            "6/6 [==============================] - 0s 292us/sample - loss: 0.0450\n",
            "Epoch 137/500\n",
            "6/6 [==============================] - 0s 307us/sample - loss: 0.0441\n",
            "Epoch 138/500\n",
            "6/6 [==============================] - 0s 277us/sample - loss: 0.0432\n",
            "Epoch 139/500\n",
            "6/6 [==============================] - 0s 279us/sample - loss: 0.0423\n",
            "Epoch 140/500\n",
            "6/6 [==============================] - 0s 287us/sample - loss: 0.0415\n",
            "Epoch 141/500\n",
            "6/6 [==============================] - 0s 292us/sample - loss: 0.0406\n",
            "Epoch 142/500\n",
            "6/6 [==============================] - 0s 290us/sample - loss: 0.0398\n",
            "Epoch 143/500\n",
            "6/6 [==============================] - 0s 298us/sample - loss: 0.0390\n",
            "Epoch 144/500\n",
            "6/6 [==============================] - 0s 257us/sample - loss: 0.0382\n",
            "Epoch 145/500\n",
            "6/6 [==============================] - 0s 279us/sample - loss: 0.0374\n",
            "Epoch 146/500\n",
            "6/6 [==============================] - 0s 349us/sample - loss: 0.0366\n",
            "Epoch 147/500\n",
            "6/6 [==============================] - 0s 262us/sample - loss: 0.0359\n",
            "Epoch 148/500\n",
            "6/6 [==============================] - 0s 322us/sample - loss: 0.0351\n",
            "Epoch 149/500\n",
            "6/6 [==============================] - 0s 286us/sample - loss: 0.0344\n",
            "Epoch 150/500\n",
            "6/6 [==============================] - 0s 307us/sample - loss: 0.0337\n",
            "Epoch 151/500\n",
            "6/6 [==============================] - 0s 286us/sample - loss: 0.0330\n",
            "Epoch 152/500\n",
            "6/6 [==============================] - 0s 439us/sample - loss: 0.0323\n",
            "Epoch 153/500\n",
            "6/6 [==============================] - 0s 338us/sample - loss: 0.0317\n",
            "Epoch 154/500\n",
            "6/6 [==============================] - 0s 298us/sample - loss: 0.0310\n",
            "Epoch 155/500\n",
            "6/6 [==============================] - 0s 237us/sample - loss: 0.0304\n",
            "Epoch 156/500\n",
            "6/6 [==============================] - 0s 217us/sample - loss: 0.0297\n",
            "Epoch 157/500\n",
            "6/6 [==============================] - 0s 315us/sample - loss: 0.0291\n",
            "Epoch 158/500\n",
            "6/6 [==============================] - 0s 228us/sample - loss: 0.0285\n",
            "Epoch 159/500\n",
            "6/6 [==============================] - 0s 396us/sample - loss: 0.0279\n",
            "Epoch 160/500\n",
            "6/6 [==============================] - 0s 244us/sample - loss: 0.0274\n",
            "Epoch 161/500\n",
            "6/6 [==============================] - 0s 401us/sample - loss: 0.0268\n",
            "Epoch 162/500\n",
            "6/6 [==============================] - 0s 350us/sample - loss: 0.0263\n",
            "Epoch 163/500\n",
            "6/6 [==============================] - 0s 333us/sample - loss: 0.0257\n",
            "Epoch 164/500\n",
            "6/6 [==============================] - 0s 446us/sample - loss: 0.0252\n",
            "Epoch 165/500\n",
            "6/6 [==============================] - 0s 272us/sample - loss: 0.0247\n",
            "Epoch 166/500\n",
            "6/6 [==============================] - 0s 269us/sample - loss: 0.0242\n",
            "Epoch 167/500\n",
            "6/6 [==============================] - 0s 352us/sample - loss: 0.0237\n",
            "Epoch 168/500\n",
            "6/6 [==============================] - 0s 504us/sample - loss: 0.0232\n",
            "Epoch 169/500\n",
            "6/6 [==============================] - 0s 717us/sample - loss: 0.0227\n",
            "Epoch 170/500\n",
            "6/6 [==============================] - 0s 802us/sample - loss: 0.0222\n",
            "Epoch 171/500\n",
            "6/6 [==============================] - 0s 370us/sample - loss: 0.0218\n",
            "Epoch 172/500\n",
            "6/6 [==============================] - 0s 375us/sample - loss: 0.0213\n",
            "Epoch 173/500\n",
            "6/6 [==============================] - 0s 486us/sample - loss: 0.0209\n",
            "Epoch 174/500\n",
            "6/6 [==============================] - 0s 494us/sample - loss: 0.0205\n",
            "Epoch 175/500\n",
            "6/6 [==============================] - 0s 480us/sample - loss: 0.0200\n",
            "Epoch 176/500\n",
            "6/6 [==============================] - 0s 322us/sample - loss: 0.0196\n",
            "Epoch 177/500\n",
            "6/6 [==============================] - 0s 607us/sample - loss: 0.0192\n",
            "Epoch 178/500\n",
            "6/6 [==============================] - 0s 167us/sample - loss: 0.0188\n",
            "Epoch 179/500\n",
            "6/6 [==============================] - 0s 543us/sample - loss: 0.0185\n",
            "Epoch 180/500\n",
            "6/6 [==============================] - 0s 484us/sample - loss: 0.0181\n",
            "Epoch 181/500\n",
            "6/6 [==============================] - 0s 500us/sample - loss: 0.0177\n",
            "Epoch 182/500\n",
            "6/6 [==============================] - 0s 194us/sample - loss: 0.0173\n",
            "Epoch 183/500\n",
            "6/6 [==============================] - 0s 175us/sample - loss: 0.0170\n",
            "Epoch 184/500\n",
            "6/6 [==============================] - 0s 515us/sample - loss: 0.0166\n",
            "Epoch 185/500\n",
            "6/6 [==============================] - 0s 506us/sample - loss: 0.0163\n",
            "Epoch 186/500\n",
            "6/6 [==============================] - 0s 171us/sample - loss: 0.0160\n",
            "Epoch 187/500\n",
            "6/6 [==============================] - 0s 171us/sample - loss: 0.0156\n",
            "Epoch 188/500\n",
            "6/6 [==============================] - 0s 702us/sample - loss: 0.0153\n",
            "Epoch 189/500\n",
            "6/6 [==============================] - 0s 399us/sample - loss: 0.0150\n",
            "Epoch 190/500\n",
            "6/6 [==============================] - 0s 253us/sample - loss: 0.0147\n",
            "Epoch 191/500\n",
            "6/6 [==============================] - 0s 252us/sample - loss: 0.0144\n",
            "Epoch 192/500\n",
            "6/6 [==============================] - 0s 507us/sample - loss: 0.0141\n",
            "Epoch 193/500\n",
            "6/6 [==============================] - 0s 220us/sample - loss: 0.0138\n",
            "Epoch 194/500\n",
            "6/6 [==============================] - 0s 232us/sample - loss: 0.0135\n",
            "Epoch 195/500\n",
            "6/6 [==============================] - 0s 494us/sample - loss: 0.0132\n",
            "Epoch 196/500\n",
            "6/6 [==============================] - 0s 263us/sample - loss: 0.0130\n",
            "Epoch 197/500\n",
            "6/6 [==============================] - 0s 257us/sample - loss: 0.0127\n",
            "Epoch 198/500\n",
            "6/6 [==============================] - 0s 322us/sample - loss: 0.0124\n",
            "Epoch 199/500\n",
            "6/6 [==============================] - 0s 346us/sample - loss: 0.0122\n",
            "Epoch 200/500\n",
            "6/6 [==============================] - 0s 498us/sample - loss: 0.0119\n",
            "Epoch 201/500\n",
            "6/6 [==============================] - 0s 284us/sample - loss: 0.0117\n",
            "Epoch 202/500\n",
            "6/6 [==============================] - 0s 272us/sample - loss: 0.0114\n",
            "Epoch 203/500\n",
            "6/6 [==============================] - 0s 327us/sample - loss: 0.0112\n",
            "Epoch 204/500\n",
            "6/6 [==============================] - 0s 331us/sample - loss: 0.0110\n",
            "Epoch 205/500\n",
            "6/6 [==============================] - 0s 495us/sample - loss: 0.0108\n",
            "Epoch 206/500\n",
            "6/6 [==============================] - 0s 338us/sample - loss: 0.0105\n",
            "Epoch 207/500\n",
            "6/6 [==============================] - 0s 307us/sample - loss: 0.0103\n",
            "Epoch 208/500\n",
            "6/6 [==============================] - 0s 556us/sample - loss: 0.0101\n",
            "Epoch 209/500\n",
            "6/6 [==============================] - 0s 313us/sample - loss: 0.0099\n",
            "Epoch 210/500\n",
            "6/6 [==============================] - 0s 336us/sample - loss: 0.0097\n",
            "Epoch 211/500\n",
            "6/6 [==============================] - 0s 218us/sample - loss: 0.0095\n",
            "Epoch 212/500\n",
            "6/6 [==============================] - 0s 220us/sample - loss: 0.0093\n",
            "Epoch 213/500\n",
            "6/6 [==============================] - 0s 241us/sample - loss: 0.0091\n",
            "Epoch 214/500\n",
            "6/6 [==============================] - 0s 220us/sample - loss: 0.0089\n",
            "Epoch 215/500\n",
            "6/6 [==============================] - 0s 218us/sample - loss: 0.0087\n",
            "Epoch 216/500\n",
            "6/6 [==============================] - 0s 269us/sample - loss: 0.0086\n",
            "Epoch 217/500\n",
            "6/6 [==============================] - 0s 273us/sample - loss: 0.0084\n",
            "Epoch 218/500\n",
            "6/6 [==============================] - 0s 291us/sample - loss: 0.0082\n",
            "Epoch 219/500\n",
            "6/6 [==============================] - 0s 307us/sample - loss: 0.0080\n",
            "Epoch 220/500\n",
            "6/6 [==============================] - 0s 418us/sample - loss: 0.0079\n",
            "Epoch 221/500\n",
            "6/6 [==============================] - 0s 247us/sample - loss: 0.0077\n",
            "Epoch 222/500\n",
            "6/6 [==============================] - 0s 237us/sample - loss: 0.0076\n",
            "Epoch 223/500\n",
            "6/6 [==============================] - 0s 299us/sample - loss: 0.0074\n",
            "Epoch 224/500\n",
            "6/6 [==============================] - 0s 249us/sample - loss: 0.0073\n",
            "Epoch 225/500\n",
            "6/6 [==============================] - 0s 397us/sample - loss: 0.0071\n",
            "Epoch 226/500\n",
            "6/6 [==============================] - 0s 199us/sample - loss: 0.0070\n",
            "Epoch 227/500\n",
            "6/6 [==============================] - 0s 287us/sample - loss: 0.0068\n",
            "Epoch 228/500\n",
            "6/6 [==============================] - 0s 495us/sample - loss: 0.0067\n",
            "Epoch 229/500\n",
            "6/6 [==============================] - 0s 256us/sample - loss: 0.0065\n",
            "Epoch 230/500\n",
            "6/6 [==============================] - 0s 268us/sample - loss: 0.0064\n",
            "Epoch 231/500\n",
            "6/6 [==============================] - 0s 223us/sample - loss: 0.0063\n",
            "Epoch 232/500\n",
            "6/6 [==============================] - 0s 287us/sample - loss: 0.0061\n",
            "Epoch 233/500\n",
            "6/6 [==============================] - 0s 418us/sample - loss: 0.0060\n",
            "Epoch 234/500\n",
            "6/6 [==============================] - 0s 323us/sample - loss: 0.0059\n",
            "Epoch 235/500\n",
            "6/6 [==============================] - 0s 350us/sample - loss: 0.0058\n",
            "Epoch 236/500\n",
            "6/6 [==============================] - 0s 279us/sample - loss: 0.0057\n",
            "Epoch 237/500\n",
            "6/6 [==============================] - 0s 226us/sample - loss: 0.0055\n",
            "Epoch 238/500\n",
            "6/6 [==============================] - 0s 278us/sample - loss: 0.0054\n",
            "Epoch 239/500\n",
            "6/6 [==============================] - 0s 247us/sample - loss: 0.0053\n",
            "Epoch 240/500\n",
            "6/6 [==============================] - 0s 412us/sample - loss: 0.0052\n",
            "Epoch 241/500\n",
            "6/6 [==============================] - 0s 268us/sample - loss: 0.0051\n",
            "Epoch 242/500\n",
            "6/6 [==============================] - 0s 222us/sample - loss: 0.0050\n",
            "Epoch 243/500\n",
            "6/6 [==============================] - 0s 301us/sample - loss: 0.0049\n",
            "Epoch 244/500\n",
            "6/6 [==============================] - 0s 273us/sample - loss: 0.0048\n",
            "Epoch 245/500\n",
            "6/6 [==============================] - 0s 486us/sample - loss: 0.0047\n",
            "Epoch 246/500\n",
            "6/6 [==============================] - 0s 247us/sample - loss: 0.0046\n",
            "Epoch 247/500\n",
            "6/6 [==============================] - 0s 250us/sample - loss: 0.0045\n",
            "Epoch 248/500\n",
            "6/6 [==============================] - 0s 358us/sample - loss: 0.0044\n",
            "Epoch 249/500\n",
            "6/6 [==============================] - 0s 249us/sample - loss: 0.0043\n",
            "Epoch 250/500\n",
            "6/6 [==============================] - 0s 291us/sample - loss: 0.0042\n",
            "Epoch 251/500\n",
            "6/6 [==============================] - 0s 478us/sample - loss: 0.0041\n",
            "Epoch 252/500\n",
            "6/6 [==============================] - 0s 329us/sample - loss: 0.0041\n",
            "Epoch 253/500\n",
            "6/6 [==============================] - 0s 465us/sample - loss: 0.0040\n",
            "Epoch 254/500\n",
            "6/6 [==============================] - 0s 253us/sample - loss: 0.0039\n",
            "Epoch 255/500\n",
            "6/6 [==============================] - 0s 287us/sample - loss: 0.0038\n",
            "Epoch 256/500\n",
            "6/6 [==============================] - 0s 312us/sample - loss: 0.0037\n",
            "Epoch 257/500\n",
            "6/6 [==============================] - 0s 219us/sample - loss: 0.0037\n",
            "Epoch 258/500\n",
            "6/6 [==============================] - 0s 391us/sample - loss: 0.0036\n",
            "Epoch 259/500\n",
            "6/6 [==============================] - 0s 284us/sample - loss: 0.0035\n",
            "Epoch 260/500\n",
            "6/6 [==============================] - 0s 238us/sample - loss: 0.0034\n",
            "Epoch 261/500\n",
            "6/6 [==============================] - 0s 264us/sample - loss: 0.0034\n",
            "Epoch 262/500\n",
            "6/6 [==============================] - 0s 294us/sample - loss: 0.0033\n",
            "Epoch 263/500\n",
            "6/6 [==============================] - 0s 388us/sample - loss: 0.0032\n",
            "Epoch 264/500\n",
            "6/6 [==============================] - 0s 244us/sample - loss: 0.0032\n",
            "Epoch 265/500\n",
            "6/6 [==============================] - 0s 198us/sample - loss: 0.0031\n",
            "Epoch 266/500\n",
            "6/6 [==============================] - 0s 376us/sample - loss: 0.0030\n",
            "Epoch 267/500\n",
            "6/6 [==============================] - 0s 244us/sample - loss: 0.0030\n",
            "Epoch 268/500\n",
            "6/6 [==============================] - 0s 600us/sample - loss: 0.0029\n",
            "Epoch 269/500\n",
            "6/6 [==============================] - 0s 525us/sample - loss: 0.0028\n",
            "Epoch 270/500\n",
            "6/6 [==============================] - 0s 669us/sample - loss: 0.0028\n",
            "Epoch 271/500\n",
            "6/6 [==============================] - 0s 455us/sample - loss: 0.0027\n",
            "Epoch 272/500\n",
            "6/6 [==============================] - 0s 652us/sample - loss: 0.0027\n",
            "Epoch 273/500\n",
            "6/6 [==============================] - 0s 447us/sample - loss: 0.0026\n",
            "Epoch 274/500\n",
            "6/6 [==============================] - 0s 697us/sample - loss: 0.0026\n",
            "Epoch 275/500\n",
            "6/6 [==============================] - 0s 323us/sample - loss: 0.0025\n",
            "Epoch 276/500\n",
            "6/6 [==============================] - 0s 276us/sample - loss: 0.0025\n",
            "Epoch 277/500\n",
            "6/6 [==============================] - 0s 448us/sample - loss: 0.0024\n",
            "Epoch 278/500\n",
            "6/6 [==============================] - 0s 360us/sample - loss: 0.0024\n",
            "Epoch 279/500\n",
            "6/6 [==============================] - 0s 528us/sample - loss: 0.0023\n",
            "Epoch 280/500\n",
            "6/6 [==============================] - 0s 295us/sample - loss: 0.0023\n",
            "Epoch 281/500\n",
            "6/6 [==============================] - 0s 340us/sample - loss: 0.0022\n",
            "Epoch 282/500\n",
            "6/6 [==============================] - 0s 618us/sample - loss: 0.0022\n",
            "Epoch 283/500\n",
            "6/6 [==============================] - 0s 332us/sample - loss: 0.0021\n",
            "Epoch 284/500\n",
            "6/6 [==============================] - 0s 588us/sample - loss: 0.0021\n",
            "Epoch 285/500\n",
            "6/6 [==============================] - 0s 267us/sample - loss: 0.0020\n",
            "Epoch 286/500\n",
            "6/6 [==============================] - 0s 338us/sample - loss: 0.0020\n",
            "Epoch 287/500\n",
            "6/6 [==============================] - 0s 324us/sample - loss: 0.0020\n",
            "Epoch 288/500\n",
            "6/6 [==============================] - 0s 491us/sample - loss: 0.0019\n",
            "Epoch 289/500\n",
            "6/6 [==============================] - 0s 310us/sample - loss: 0.0019\n",
            "Epoch 290/500\n",
            "6/6 [==============================] - 0s 2ms/sample - loss: 0.0018\n",
            "Epoch 291/500\n",
            "6/6 [==============================] - 0s 626us/sample - loss: 0.0018\n",
            "Epoch 292/500\n",
            "6/6 [==============================] - 0s 361us/sample - loss: 0.0018\n",
            "Epoch 293/500\n",
            "6/6 [==============================] - 0s 2ms/sample - loss: 0.0017\n",
            "Epoch 294/500\n",
            "6/6 [==============================] - 0s 2ms/sample - loss: 0.0017\n",
            "Epoch 295/500\n",
            "6/6 [==============================] - 0s 626us/sample - loss: 0.0017\n",
            "Epoch 296/500\n",
            "6/6 [==============================] - 0s 387us/sample - loss: 0.0016\n",
            "Epoch 297/500\n",
            "6/6 [==============================] - 0s 411us/sample - loss: 0.0016\n",
            "Epoch 298/500\n",
            "6/6 [==============================] - 0s 586us/sample - loss: 0.0016\n",
            "Epoch 299/500\n",
            "6/6 [==============================] - 0s 421us/sample - loss: 0.0015\n",
            "Epoch 300/500\n",
            "6/6 [==============================] - 0s 313us/sample - loss: 0.0015\n",
            "Epoch 301/500\n",
            "6/6 [==============================] - 0s 351us/sample - loss: 0.0015\n",
            "Epoch 302/500\n",
            "6/6 [==============================] - 0s 354us/sample - loss: 0.0014\n",
            "Epoch 303/500\n",
            "6/6 [==============================] - 0s 2ms/sample - loss: 0.0014\n",
            "Epoch 304/500\n",
            "6/6 [==============================] - 0s 337us/sample - loss: 0.0014\n",
            "Epoch 305/500\n",
            "6/6 [==============================] - 0s 357us/sample - loss: 0.0014\n",
            "Epoch 306/500\n",
            "6/6 [==============================] - 0s 300us/sample - loss: 0.0013\n",
            "Epoch 307/500\n",
            "6/6 [==============================] - 0s 325us/sample - loss: 0.0013\n",
            "Epoch 308/500\n",
            "6/6 [==============================] - 0s 386us/sample - loss: 0.0013\n",
            "Epoch 309/500\n",
            "6/6 [==============================] - 0s 323us/sample - loss: 0.0012\n",
            "Epoch 310/500\n",
            "6/6 [==============================] - 0s 442us/sample - loss: 0.0012\n",
            "Epoch 311/500\n",
            "6/6 [==============================] - 0s 358us/sample - loss: 0.0012\n",
            "Epoch 312/500\n",
            "6/6 [==============================] - 0s 343us/sample - loss: 0.0012\n",
            "Epoch 313/500\n",
            "6/6 [==============================] - 0s 539us/sample - loss: 0.0011\n",
            "Epoch 314/500\n",
            "6/6 [==============================] - 0s 419us/sample - loss: 0.0011\n",
            "Epoch 315/500\n",
            "6/6 [==============================] - 0s 409us/sample - loss: 0.0011\n",
            "Epoch 316/500\n",
            "6/6 [==============================] - 0s 507us/sample - loss: 0.0011\n",
            "Epoch 317/500\n",
            "6/6 [==============================] - 0s 353us/sample - loss: 0.0011\n",
            "Epoch 318/500\n",
            "6/6 [==============================] - 0s 426us/sample - loss: 0.0010\n",
            "Epoch 319/500\n",
            "6/6 [==============================] - 0s 539us/sample - loss: 0.0010\n",
            "Epoch 320/500\n",
            "6/6 [==============================] - 0s 342us/sample - loss: 9.8890e-04\n",
            "Epoch 321/500\n",
            "6/6 [==============================] - 0s 306us/sample - loss: 9.6858e-04\n",
            "Epoch 322/500\n",
            "6/6 [==============================] - 0s 356us/sample - loss: 9.4869e-04\n",
            "Epoch 323/500\n",
            "6/6 [==============================] - 0s 287us/sample - loss: 9.2920e-04\n",
            "Epoch 324/500\n",
            "6/6 [==============================] - 0s 392us/sample - loss: 9.1012e-04\n",
            "Epoch 325/500\n",
            "6/6 [==============================] - 0s 422us/sample - loss: 8.9142e-04\n",
            "Epoch 326/500\n",
            "6/6 [==============================] - 0s 290us/sample - loss: 8.7311e-04\n",
            "Epoch 327/500\n",
            "6/6 [==============================] - 0s 285us/sample - loss: 8.5518e-04\n",
            "Epoch 328/500\n",
            "6/6 [==============================] - 0s 500us/sample - loss: 8.3761e-04\n",
            "Epoch 329/500\n",
            "6/6 [==============================] - 0s 241us/sample - loss: 8.2040e-04\n",
            "Epoch 330/500\n",
            "6/6 [==============================] - 0s 423us/sample - loss: 8.0355e-04\n",
            "Epoch 331/500\n",
            "6/6 [==============================] - 0s 342us/sample - loss: 7.8705e-04\n",
            "Epoch 332/500\n",
            "6/6 [==============================] - 0s 276us/sample - loss: 7.7088e-04\n",
            "Epoch 333/500\n",
            "6/6 [==============================] - 0s 341us/sample - loss: 7.5505e-04\n",
            "Epoch 334/500\n",
            "6/6 [==============================] - 0s 536us/sample - loss: 7.3954e-04\n",
            "Epoch 335/500\n",
            "6/6 [==============================] - 0s 417us/sample - loss: 7.2435e-04\n",
            "Epoch 336/500\n",
            "6/6 [==============================] - 0s 338us/sample - loss: 7.0947e-04\n",
            "Epoch 337/500\n",
            "6/6 [==============================] - 0s 588us/sample - loss: 6.9490e-04\n",
            "Epoch 338/500\n",
            "6/6 [==============================] - 0s 341us/sample - loss: 6.8063e-04\n",
            "Epoch 339/500\n",
            "6/6 [==============================] - 0s 586us/sample - loss: 6.6665e-04\n",
            "Epoch 340/500\n",
            "6/6 [==============================] - 0s 380us/sample - loss: 6.5295e-04\n",
            "Epoch 341/500\n",
            "6/6 [==============================] - 0s 589us/sample - loss: 6.3954e-04\n",
            "Epoch 342/500\n",
            "6/6 [==============================] - 0s 393us/sample - loss: 6.2640e-04\n",
            "Epoch 343/500\n",
            "6/6 [==============================] - 0s 663us/sample - loss: 6.1354e-04\n",
            "Epoch 344/500\n",
            "6/6 [==============================] - 0s 372us/sample - loss: 6.0093e-04\n",
            "Epoch 345/500\n",
            "6/6 [==============================] - 0s 588us/sample - loss: 5.8859e-04\n",
            "Epoch 346/500\n",
            "6/6 [==============================] - 0s 271us/sample - loss: 5.7650e-04\n",
            "Epoch 347/500\n",
            "6/6 [==============================] - 0s 411us/sample - loss: 5.6466e-04\n",
            "Epoch 348/500\n",
            "6/6 [==============================] - 0s 316us/sample - loss: 5.5306e-04\n",
            "Epoch 349/500\n",
            "6/6 [==============================] - 0s 366us/sample - loss: 5.4170e-04\n",
            "Epoch 350/500\n",
            "6/6 [==============================] - 0s 350us/sample - loss: 5.3057e-04\n",
            "Epoch 351/500\n",
            "6/6 [==============================] - 0s 309us/sample - loss: 5.1968e-04\n",
            "Epoch 352/500\n",
            "6/6 [==============================] - 0s 619us/sample - loss: 5.0900e-04\n",
            "Epoch 353/500\n",
            "6/6 [==============================] - 0s 384us/sample - loss: 4.9855e-04\n",
            "Epoch 354/500\n",
            "6/6 [==============================] - 0s 379us/sample - loss: 4.8831e-04\n",
            "Epoch 355/500\n",
            "6/6 [==============================] - 0s 249us/sample - loss: 4.7827e-04\n",
            "Epoch 356/500\n",
            "6/6 [==============================] - 0s 583us/sample - loss: 4.6845e-04\n",
            "Epoch 357/500\n",
            "6/6 [==============================] - 0s 325us/sample - loss: 4.5883e-04\n",
            "Epoch 358/500\n",
            "6/6 [==============================] - 0s 255us/sample - loss: 4.4940e-04\n",
            "Epoch 359/500\n",
            "6/6 [==============================] - 0s 283us/sample - loss: 4.4017e-04\n",
            "Epoch 360/500\n",
            "6/6 [==============================] - 0s 268us/sample - loss: 4.3113e-04\n",
            "Epoch 361/500\n",
            "6/6 [==============================] - 0s 294us/sample - loss: 4.2227e-04\n",
            "Epoch 362/500\n",
            "6/6 [==============================] - 0s 300us/sample - loss: 4.1360e-04\n",
            "Epoch 363/500\n",
            "6/6 [==============================] - 0s 514us/sample - loss: 4.0510e-04\n",
            "Epoch 364/500\n",
            "6/6 [==============================] - 0s 250us/sample - loss: 3.9678e-04\n",
            "Epoch 365/500\n",
            "6/6 [==============================] - 0s 215us/sample - loss: 3.8863e-04\n",
            "Epoch 366/500\n",
            "6/6 [==============================] - 0s 461us/sample - loss: 3.8065e-04\n",
            "Epoch 367/500\n",
            "6/6 [==============================] - 0s 264us/sample - loss: 3.7283e-04\n",
            "Epoch 368/500\n",
            "6/6 [==============================] - 0s 206us/sample - loss: 3.6517e-04\n",
            "Epoch 369/500\n",
            "6/6 [==============================] - 0s 398us/sample - loss: 3.5767e-04\n",
            "Epoch 370/500\n",
            "6/6 [==============================] - 0s 200us/sample - loss: 3.5033e-04\n",
            "Epoch 371/500\n",
            "6/6 [==============================] - 0s 239us/sample - loss: 3.4313e-04\n",
            "Epoch 372/500\n",
            "6/6 [==============================] - 0s 305us/sample - loss: 3.3608e-04\n",
            "Epoch 373/500\n",
            "6/6 [==============================] - 0s 270us/sample - loss: 3.2918e-04\n",
            "Epoch 374/500\n",
            "6/6 [==============================] - 0s 273us/sample - loss: 3.2242e-04\n",
            "Epoch 375/500\n",
            "6/6 [==============================] - 0s 258us/sample - loss: 3.1580e-04\n",
            "Epoch 376/500\n",
            "6/6 [==============================] - 0s 522us/sample - loss: 3.0931e-04\n",
            "Epoch 377/500\n",
            "6/6 [==============================] - 0s 327us/sample - loss: 3.0295e-04\n",
            "Epoch 378/500\n",
            "6/6 [==============================] - 0s 260us/sample - loss: 2.9673e-04\n",
            "Epoch 379/500\n",
            "6/6 [==============================] - 0s 210us/sample - loss: 2.9064e-04\n",
            "Epoch 380/500\n",
            "6/6 [==============================] - 0s 236us/sample - loss: 2.8467e-04\n",
            "Epoch 381/500\n",
            "6/6 [==============================] - 0s 223us/sample - loss: 2.7882e-04\n",
            "Epoch 382/500\n",
            "6/6 [==============================] - 0s 224us/sample - loss: 2.7310e-04\n",
            "Epoch 383/500\n",
            "6/6 [==============================] - 0s 221us/sample - loss: 2.6748e-04\n",
            "Epoch 384/500\n",
            "6/6 [==============================] - 0s 275us/sample - loss: 2.6199e-04\n",
            "Epoch 385/500\n",
            "6/6 [==============================] - 0s 247us/sample - loss: 2.5661e-04\n",
            "Epoch 386/500\n",
            "6/6 [==============================] - 0s 216us/sample - loss: 2.5134e-04\n",
            "Epoch 387/500\n",
            "6/6 [==============================] - 0s 203us/sample - loss: 2.4618e-04\n",
            "Epoch 388/500\n",
            "6/6 [==============================] - 0s 217us/sample - loss: 2.4112e-04\n",
            "Epoch 389/500\n",
            "6/6 [==============================] - 0s 216us/sample - loss: 2.3617e-04\n",
            "Epoch 390/500\n",
            "6/6 [==============================] - 0s 205us/sample - loss: 2.3131e-04\n",
            "Epoch 391/500\n",
            "6/6 [==============================] - 0s 218us/sample - loss: 2.2656e-04\n",
            "Epoch 392/500\n",
            "6/6 [==============================] - 0s 316us/sample - loss: 2.2191e-04\n",
            "Epoch 393/500\n",
            "6/6 [==============================] - 0s 257us/sample - loss: 2.1735e-04\n",
            "Epoch 394/500\n",
            "6/6 [==============================] - 0s 282us/sample - loss: 2.1289e-04\n",
            "Epoch 395/500\n",
            "6/6 [==============================] - 0s 243us/sample - loss: 2.0851e-04\n",
            "Epoch 396/500\n",
            "6/6 [==============================] - 0s 260us/sample - loss: 2.0423e-04\n",
            "Epoch 397/500\n",
            "6/6 [==============================] - 0s 211us/sample - loss: 2.0003e-04\n",
            "Epoch 398/500\n",
            "6/6 [==============================] - 0s 219us/sample - loss: 1.9592e-04\n",
            "Epoch 399/500\n",
            "6/6 [==============================] - 0s 214us/sample - loss: 1.9190e-04\n",
            "Epoch 400/500\n",
            "6/6 [==============================] - 0s 213us/sample - loss: 1.8796e-04\n",
            "Epoch 401/500\n",
            "6/6 [==============================] - 0s 233us/sample - loss: 1.8410e-04\n",
            "Epoch 402/500\n",
            "6/6 [==============================] - 0s 233us/sample - loss: 1.8032e-04\n",
            "Epoch 403/500\n",
            "6/6 [==============================] - 0s 339us/sample - loss: 1.7661e-04\n",
            "Epoch 404/500\n",
            "6/6 [==============================] - 0s 203us/sample - loss: 1.7299e-04\n",
            "Epoch 405/500\n",
            "6/6 [==============================] - 0s 195us/sample - loss: 1.6943e-04\n",
            "Epoch 406/500\n",
            "6/6 [==============================] - 0s 203us/sample - loss: 1.6595e-04\n",
            "Epoch 407/500\n",
            "6/6 [==============================] - 0s 232us/sample - loss: 1.6254e-04\n",
            "Epoch 408/500\n",
            "6/6 [==============================] - 0s 245us/sample - loss: 1.5920e-04\n",
            "Epoch 409/500\n",
            "6/6 [==============================] - 0s 195us/sample - loss: 1.5593e-04\n",
            "Epoch 410/500\n",
            "6/6 [==============================] - 0s 216us/sample - loss: 1.5273e-04\n",
            "Epoch 411/500\n",
            "6/6 [==============================] - 0s 185us/sample - loss: 1.4959e-04\n",
            "Epoch 412/500\n",
            "6/6 [==============================] - 0s 217us/sample - loss: 1.4652e-04\n",
            "Epoch 413/500\n",
            "6/6 [==============================] - 0s 486us/sample - loss: 1.4351e-04\n",
            "Epoch 414/500\n",
            "6/6 [==============================] - 0s 199us/sample - loss: 1.4056e-04\n",
            "Epoch 415/500\n",
            "6/6 [==============================] - 0s 203us/sample - loss: 1.3767e-04\n",
            "Epoch 416/500\n",
            "6/6 [==============================] - 0s 217us/sample - loss: 1.3485e-04\n",
            "Epoch 417/500\n",
            "6/6 [==============================] - 0s 226us/sample - loss: 1.3208e-04\n",
            "Epoch 418/500\n",
            "6/6 [==============================] - 0s 236us/sample - loss: 1.2936e-04\n",
            "Epoch 419/500\n",
            "6/6 [==============================] - 0s 219us/sample - loss: 1.2671e-04\n",
            "Epoch 420/500\n",
            "6/6 [==============================] - 0s 289us/sample - loss: 1.2410e-04\n",
            "Epoch 421/500\n",
            "6/6 [==============================] - 0s 223us/sample - loss: 1.2156e-04\n",
            "Epoch 422/500\n",
            "6/6 [==============================] - 0s 258us/sample - loss: 1.1906e-04\n",
            "Epoch 423/500\n",
            "6/6 [==============================] - 0s 231us/sample - loss: 1.1661e-04\n",
            "Epoch 424/500\n",
            "6/6 [==============================] - 0s 199us/sample - loss: 1.1422e-04\n",
            "Epoch 425/500\n",
            "6/6 [==============================] - 0s 209us/sample - loss: 1.1187e-04\n",
            "Epoch 426/500\n",
            "6/6 [==============================] - 0s 587us/sample - loss: 1.0957e-04\n",
            "Epoch 427/500\n",
            "6/6 [==============================] - 0s 208us/sample - loss: 1.0732e-04\n",
            "Epoch 428/500\n",
            "6/6 [==============================] - 0s 199us/sample - loss: 1.0512e-04\n",
            "Epoch 429/500\n",
            "6/6 [==============================] - 0s 486us/sample - loss: 1.0296e-04\n",
            "Epoch 430/500\n",
            "6/6 [==============================] - 0s 310us/sample - loss: 1.0084e-04\n",
            "Epoch 431/500\n",
            "6/6 [==============================] - 0s 443us/sample - loss: 9.8772e-05\n",
            "Epoch 432/500\n",
            "6/6 [==============================] - 0s 303us/sample - loss: 9.6743e-05\n",
            "Epoch 433/500\n",
            "6/6 [==============================] - 0s 369us/sample - loss: 9.4756e-05\n",
            "Epoch 434/500\n",
            "6/6 [==============================] - 0s 336us/sample - loss: 9.2809e-05\n",
            "Epoch 435/500\n",
            "6/6 [==============================] - 0s 368us/sample - loss: 9.0904e-05\n",
            "Epoch 436/500\n",
            "6/6 [==============================] - 0s 325us/sample - loss: 8.9035e-05\n",
            "Epoch 437/500\n",
            "6/6 [==============================] - 0s 421us/sample - loss: 8.7208e-05\n",
            "Epoch 438/500\n",
            "6/6 [==============================] - 0s 302us/sample - loss: 8.5415e-05\n",
            "Epoch 439/500\n",
            "6/6 [==============================] - 0s 488us/sample - loss: 8.3661e-05\n",
            "Epoch 440/500\n",
            "6/6 [==============================] - 0s 339us/sample - loss: 8.1942e-05\n",
            "Epoch 441/500\n",
            "6/6 [==============================] - 0s 528us/sample - loss: 8.0259e-05\n",
            "Epoch 442/500\n",
            "6/6 [==============================] - 0s 356us/sample - loss: 7.8611e-05\n",
            "Epoch 443/500\n",
            "6/6 [==============================] - 0s 539us/sample - loss: 7.6997e-05\n",
            "Epoch 444/500\n",
            "6/6 [==============================] - 0s 389us/sample - loss: 7.5415e-05\n",
            "Epoch 445/500\n",
            "6/6 [==============================] - 0s 333us/sample - loss: 7.3866e-05\n",
            "Epoch 446/500\n",
            "6/6 [==============================] - 0s 352us/sample - loss: 7.2349e-05\n",
            "Epoch 447/500\n",
            "6/6 [==============================] - 0s 327us/sample - loss: 7.0863e-05\n",
            "Epoch 448/500\n",
            "6/6 [==============================] - 0s 336us/sample - loss: 6.9409e-05\n",
            "Epoch 449/500\n",
            "6/6 [==============================] - 0s 244us/sample - loss: 6.7983e-05\n",
            "Epoch 450/500\n",
            "6/6 [==============================] - 0s 321us/sample - loss: 6.6587e-05\n",
            "Epoch 451/500\n",
            "6/6 [==============================] - 0s 258us/sample - loss: 6.5219e-05\n",
            "Epoch 452/500\n",
            "6/6 [==============================] - 0s 345us/sample - loss: 6.3879e-05\n",
            "Epoch 453/500\n",
            "6/6 [==============================] - 0s 313us/sample - loss: 6.2567e-05\n",
            "Epoch 454/500\n",
            "6/6 [==============================] - 0s 382us/sample - loss: 6.1281e-05\n",
            "Epoch 455/500\n",
            "6/6 [==============================] - 0s 290us/sample - loss: 6.0022e-05\n",
            "Epoch 456/500\n",
            "6/6 [==============================] - 0s 400us/sample - loss: 5.8789e-05\n",
            "Epoch 457/500\n",
            "6/6 [==============================] - 0s 182us/sample - loss: 5.7582e-05\n",
            "Epoch 458/500\n",
            "6/6 [==============================] - 0s 257us/sample - loss: 5.6399e-05\n",
            "Epoch 459/500\n",
            "6/6 [==============================] - 0s 212us/sample - loss: 5.5240e-05\n",
            "Epoch 460/500\n",
            "6/6 [==============================] - 0s 226us/sample - loss: 5.4106e-05\n",
            "Epoch 461/500\n",
            "6/6 [==============================] - 0s 303us/sample - loss: 5.2994e-05\n",
            "Epoch 462/500\n",
            "6/6 [==============================] - 0s 267us/sample - loss: 5.1905e-05\n",
            "Epoch 463/500\n",
            "6/6 [==============================] - 0s 211us/sample - loss: 5.0840e-05\n",
            "Epoch 464/500\n",
            "6/6 [==============================] - 0s 205us/sample - loss: 4.9795e-05\n",
            "Epoch 465/500\n",
            "6/6 [==============================] - 0s 307us/sample - loss: 4.8773e-05\n",
            "Epoch 466/500\n",
            "6/6 [==============================] - 0s 295us/sample - loss: 4.7771e-05\n",
            "Epoch 467/500\n",
            "6/6 [==============================] - 0s 326us/sample - loss: 4.6790e-05\n",
            "Epoch 468/500\n",
            "6/6 [==============================] - 0s 241us/sample - loss: 4.5829e-05\n",
            "Epoch 469/500\n",
            "6/6 [==============================] - 0s 323us/sample - loss: 4.4887e-05\n",
            "Epoch 470/500\n",
            "6/6 [==============================] - 0s 305us/sample - loss: 4.3966e-05\n",
            "Epoch 471/500\n",
            "6/6 [==============================] - 0s 287us/sample - loss: 4.3062e-05\n",
            "Epoch 472/500\n",
            "6/6 [==============================] - 0s 297us/sample - loss: 4.2178e-05\n",
            "Epoch 473/500\n",
            "6/6 [==============================] - 0s 243us/sample - loss: 4.1312e-05\n",
            "Epoch 474/500\n",
            "6/6 [==============================] - 0s 553us/sample - loss: 4.0463e-05\n",
            "Epoch 475/500\n",
            "6/6 [==============================] - 0s 347us/sample - loss: 3.9633e-05\n",
            "Epoch 476/500\n",
            "6/6 [==============================] - 0s 756us/sample - loss: 3.8818e-05\n",
            "Epoch 477/500\n",
            "6/6 [==============================] - 0s 357us/sample - loss: 3.8022e-05\n",
            "Epoch 478/500\n",
            "6/6 [==============================] - 0s 503us/sample - loss: 3.7240e-05\n",
            "Epoch 479/500\n",
            "6/6 [==============================] - 0s 404us/sample - loss: 3.6475e-05\n",
            "Epoch 480/500\n",
            "6/6 [==============================] - 0s 650us/sample - loss: 3.5726e-05\n",
            "Epoch 481/500\n",
            "6/6 [==============================] - 0s 439us/sample - loss: 3.4993e-05\n",
            "Epoch 482/500\n",
            "6/6 [==============================] - 0s 687us/sample - loss: 3.4274e-05\n",
            "Epoch 483/500\n",
            "6/6 [==============================] - 0s 446us/sample - loss: 3.3569e-05\n",
            "Epoch 484/500\n",
            "6/6 [==============================] - 0s 694us/sample - loss: 3.2880e-05\n",
            "Epoch 485/500\n",
            "6/6 [==============================] - 0s 445us/sample - loss: 3.2204e-05\n",
            "Epoch 486/500\n",
            "6/6 [==============================] - 0s 425us/sample - loss: 3.1544e-05\n",
            "Epoch 487/500\n",
            "6/6 [==============================] - 0s 342us/sample - loss: 3.0895e-05\n",
            "Epoch 488/500\n",
            "6/6 [==============================] - 0s 355us/sample - loss: 3.0261e-05\n",
            "Epoch 489/500\n",
            "6/6 [==============================] - 0s 337us/sample - loss: 2.9639e-05\n",
            "Epoch 490/500\n",
            "6/6 [==============================] - 0s 305us/sample - loss: 2.9030e-05\n",
            "Epoch 491/500\n",
            "6/6 [==============================] - 0s 645us/sample - loss: 2.8435e-05\n",
            "Epoch 492/500\n",
            "6/6 [==============================] - 0s 435us/sample - loss: 2.7850e-05\n",
            "Epoch 493/500\n",
            "6/6 [==============================] - 0s 440us/sample - loss: 2.7279e-05\n",
            "Epoch 494/500\n",
            "6/6 [==============================] - 0s 577us/sample - loss: 2.6718e-05\n",
            "Epoch 495/500\n",
            "6/6 [==============================] - 0s 421us/sample - loss: 2.6170e-05\n",
            "Epoch 496/500\n",
            "6/6 [==============================] - 0s 618us/sample - loss: 2.5631e-05\n",
            "Epoch 497/500\n",
            "6/6 [==============================] - 0s 438us/sample - loss: 2.5105e-05\n",
            "Epoch 498/500\n",
            "6/6 [==============================] - 0s 617us/sample - loss: 2.4589e-05\n",
            "Epoch 499/500\n",
            "6/6 [==============================] - 0s 451us/sample - loss: 2.4085e-05\n",
            "Epoch 500/500\n",
            "6/6 [==============================] - 0s 370us/sample - loss: 2.3589e-05\n"
          ],
          "name": "stdout"
        },
        {
          "output_type": "execute_result",
          "data": {
            "text/plain": [
              "<tensorflow.python.keras.callbacks.History at 0x7fc99cea6e80>"
            ]
          },
          "metadata": {
            "tags": []
          },
          "execution_count": 7
        }
      ]
    },
    {
      "cell_type": "code",
      "metadata": {
        "id": "t0ApF3C0h8qz",
        "colab_type": "code",
        "colab": {
          "base_uri": "https://localhost:8080/",
          "height": 34
        },
        "outputId": "56d862af-dd23-43f4-fffe-9062e67a3245"
      },
      "source": [
        "print(model.predict([10.0]))"
      ],
      "execution_count": null,
      "outputs": [
        {
          "output_type": "stream",
          "text": [
            "[[18.985828]]\n"
          ],
          "name": "stdout"
        }
      ]
    },
    {
      "cell_type": "code",
      "metadata": {
        "id": "5J14Ct4q474k",
        "colab_type": "code",
        "colab": {
          "base_uri": "https://localhost:8080/",
          "height": 34
        },
        "outputId": "339d7ac8-54b9-4667-ee6c-91c5f2383a89"
      },
      "source": [
        "from __future__ import absolute_import, division, print_function\n",
        "\n",
        "# TensorFlow and tf.keras\n",
        "import tensorflow as tf\n",
        "from tensorflow import keras\n",
        "\n",
        "# Helper libraries\n",
        "import numpy as np\n",
        "import matplotlib.pyplot as plt\n",
        "\n",
        "print(tf.__version__)"
      ],
      "execution_count": null,
      "outputs": [
        {
          "output_type": "stream",
          "text": [
            "1.13.1\n"
          ],
          "name": "stdout"
        }
      ]
    },
    {
      "cell_type": "code",
      "metadata": {
        "id": "bkUWeuAR5RXx",
        "colab_type": "code",
        "colab": {}
      },
      "source": [
        "fashion_mnist = keras.datasets.fashion_mnist\n",
        "\n",
        "(train_images, train_labels), (test_images, test_labels) = fashion_mnist.load_data()"
      ],
      "execution_count": null,
      "outputs": []
    },
    {
      "cell_type": "code",
      "metadata": {
        "id": "9AfjAzpF5hDz",
        "colab_type": "code",
        "colab": {}
      },
      "source": [
        "class_names = ['T-shirt/top', 'Trouser', 'Pullover', 'Dress', 'Coat', \n",
        "               'Sandal', 'Shirt', 'Sneaker', 'Bag', 'Ankle boot']"
      ],
      "execution_count": null,
      "outputs": []
    },
    {
      "cell_type": "code",
      "metadata": {
        "id": "2JhZ-jT56M4S",
        "colab_type": "code",
        "colab": {
          "base_uri": "https://localhost:8080/",
          "height": 34
        },
        "outputId": "e9eb9517-a571-4f90-c67f-b99d16281d11"
      },
      "source": [
        "train_images.shape"
      ],
      "execution_count": null,
      "outputs": [
        {
          "output_type": "execute_result",
          "data": {
            "text/plain": [
              "(60000, 28, 28)"
            ]
          },
          "metadata": {
            "tags": []
          },
          "execution_count": 12
        }
      ]
    },
    {
      "cell_type": "code",
      "metadata": {
        "id": "O0A135JK6gTW",
        "colab_type": "code",
        "colab": {
          "base_uri": "https://localhost:8080/",
          "height": 34
        },
        "outputId": "0d4f3c77-bd59-43db-9723-27ccb110937a"
      },
      "source": [
        "train_labels"
      ],
      "execution_count": null,
      "outputs": [
        {
          "output_type": "execute_result",
          "data": {
            "text/plain": [
              "array([9, 0, 0, ..., 3, 0, 5], dtype=uint8)"
            ]
          },
          "metadata": {
            "tags": []
          },
          "execution_count": 13
        }
      ]
    },
    {
      "cell_type": "code",
      "metadata": {
        "id": "DcIGaQ2j63jc",
        "colab_type": "code",
        "colab": {
          "base_uri": "https://localhost:8080/",
          "height": 34
        },
        "outputId": "d5a9ca54-b09a-4c60-9325-d51780982768"
      },
      "source": [
        "test_images.shape"
      ],
      "execution_count": null,
      "outputs": [
        {
          "output_type": "execute_result",
          "data": {
            "text/plain": [
              "(10000, 28, 28)"
            ]
          },
          "metadata": {
            "tags": []
          },
          "execution_count": 14
        }
      ]
    },
    {
      "cell_type": "code",
      "metadata": {
        "id": "inC0_sFQ7RQn",
        "colab_type": "code",
        "colab": {
          "base_uri": "https://localhost:8080/",
          "height": 34
        },
        "outputId": "81ec2af5-723b-4305-b62a-d9f3157b84ee"
      },
      "source": [
        "len(test_labels)"
      ],
      "execution_count": null,
      "outputs": [
        {
          "output_type": "execute_result",
          "data": {
            "text/plain": [
              "10000"
            ]
          },
          "metadata": {
            "tags": []
          },
          "execution_count": 15
        }
      ]
    },
    {
      "cell_type": "code",
      "metadata": {
        "id": "fXJt2TM27eWs",
        "colab_type": "code",
        "colab": {
          "base_uri": "https://localhost:8080/",
          "height": 347
        },
        "outputId": "95395a26-37cb-4d57-ae79-467bff0e40a2"
      },
      "source": [
        "plt.figure()\n",
        "plt.imshow(train_images[42])\n",
        "plt.colorbar()\n",
        "plt.grid(False)\n",
        "plt.show()"
      ],
      "execution_count": null,
      "outputs": [
        {
          "output_type": "display_data",
          "data": {
            "image/png": "[encoded data removed]",
            "text/plain": [
              "<Figure size 576x396 with 2 Axes>"
            ]
          },
          "metadata": {
            "tags": []
          }
        }
      ]
    },
    {
      "cell_type": "code",
      "metadata": {
        "id": "-bx4rnrx8Gnu",
        "colab_type": "code",
        "colab": {}
      },
      "source": [
        "train_images = train_images / 255.0\n",
        "\n",
        "test_images = test_images / 255.0"
      ],
      "execution_count": null,
      "outputs": []
    },
    {
      "cell_type": "code",
      "metadata": {
        "id": "Xhm64mJl8c6y",
        "colab_type": "code",
        "colab": {
          "base_uri": "https://localhost:8080/",
          "height": 589
        },
        "outputId": "a9091abf-de26-456b-de57-ce5006f970b9"
      },
      "source": [
        "plt.figure(figsize=(10,10))\n",
        "for i in range(25):\n",
        "    plt.subplot(5,5,i+1)\n",
        "    plt.xticks([])\n",
        "    plt.yticks([])\n",
        "    plt.grid(False)\n",
        "    plt.imshow(train_images[i], cmap=plt.cm.binary)\n",
        "    plt.xlabel(class_names[train_labels[i]])\n",
        "plt.show()"
      ],
      "execution_count": null,
      "outputs": [
        {
          "output_type": "display_data",
          "data": {
            "image/png": "[encoded data removed]",
            "text/plain": [
              "<Figure size 720x720 with 25 Axes>"
            ]
          },
          "metadata": {
            "tags": []
          }
        }
      ]
    },
    {
      "cell_type": "code",
      "metadata": {
        "id": "WdHWGgmM9Nay",
        "colab_type": "code",
        "colab": {}
      },
      "source": [
        "model = keras.Sequential([\n",
        "    keras.layers.Flatten(input_shape=(28, 28)),\n",
        "    keras.layers.Dense(128, activation=tf.nn.relu),\n",
        "    keras.layers.Dense(10, activation=tf.nn.softmax)\n",
        "])"
      ],
      "execution_count": null,
      "outputs": []
    },
    {
      "cell_type": "code",
      "metadata": {
        "id": "9vgQQ59z9_LK",
        "colab_type": "code",
        "colab": {}
      },
      "source": [
        "model.compile(optimizer='adam', \n",
        "              loss='sparse_categorical_crossentropy',\n",
        "              metrics=['accuracy'])"
      ],
      "execution_count": null,
      "outputs": []
    },
    {
      "cell_type": "code",
      "metadata": {
        "id": "W16WiwuJ-K2W",
        "colab_type": "code",
        "colab": {
          "base_uri": "https://localhost:8080/",
          "height": 204
        },
        "outputId": "64bed79f-7d90-43a4-cd4f-6676eaf72617"
      },
      "source": [
        "model.fit(train_images, train_labels, epochs=5)"
      ],
      "execution_count": null,
      "outputs": [
        {
          "output_type": "stream",
          "text": [
            "Epoch 1/5\n",
            "60000/60000 [==============================] - 7s 117us/sample - loss: 0.5018 - acc: 0.8226\n",
            "Epoch 2/5\n",
            "60000/60000 [==============================] - 7s 112us/sample - loss: 0.3739 - acc: 0.8644\n",
            "Epoch 3/5\n",
            "60000/60000 [==============================] - 7s 109us/sample - loss: 0.3345 - acc: 0.8777\n",
            "Epoch 4/5\n",
            "60000/60000 [==============================] - 7s 111us/sample - loss: 0.3130 - acc: 0.8850\n",
            "Epoch 5/5\n",
            "60000/60000 [==============================] - 7s 115us/sample - loss: 0.2962 - acc: 0.8905\n"
          ],
          "name": "stdout"
        },
        {
          "output_type": "execute_result",
          "data": {
            "text/plain": [
              "<tensorflow.python.keras.callbacks.History at 0x7fc9ad11c208>"
            ]
          },
          "metadata": {
            "tags": []
          },
          "execution_count": 21
        }
      ]
    },
    {
      "cell_type": "code",
      "metadata": {
        "id": "TuO4hyiW-flD",
        "colab_type": "code",
        "colab": {
          "base_uri": "https://localhost:8080/",
          "height": 51
        },
        "outputId": "9c4ee4ce-5798-4eec-f202-ddaffa8cf234"
      },
      "source": [
        "test_loss, test_acc = model.evaluate(test_images, test_labels)\n",
        "\n",
        "print('Test accuracy:', test_acc)"
      ],
      "execution_count": null,
      "outputs": [
        {
          "output_type": "stream",
          "text": [
            "10000/10000 [==============================] - 0s 45us/sample - loss: 0.3440 - acc: 0.8771\n",
            "Test accuracy: 0.8771\n"
          ],
          "name": "stdout"
        }
      ]
    },
    {
      "cell_type": "code",
      "metadata": {
        "id": "-uQtlacm-vCM",
        "colab_type": "code",
        "colab": {}
      },
      "source": [
        "predictions = model.predict(test_images)"
      ],
      "execution_count": null,
      "outputs": []
    },
    {
      "cell_type": "code",
      "metadata": {
        "id": "kFexxubw-1H8",
        "colab_type": "code",
        "colab": {
          "base_uri": "https://localhost:8080/",
          "height": 68
        },
        "outputId": "d77cac92-b055-4c1b-c5b6-37f896c5bacf"
      },
      "source": [
        "predictions[0]"
      ],
      "execution_count": null,
      "outputs": [
        {
          "output_type": "execute_result",
          "data": {
            "text/plain": [
              "array([5.77429205e-07, 3.19540590e-07, 8.10186236e-07, 1.76772019e-08,\n",
              "       4.27055824e-07, 2.94430484e-03, 5.62770992e-07, 1.22064175e-02,\n",
              "       6.16772058e-06, 9.84840333e-01], dtype=float32)"
            ]
          },
          "metadata": {
            "tags": []
          },
          "execution_count": 24
        }
      ]
    },
    {
      "cell_type": "code",
      "metadata": {
        "id": "DRhYpidO_Apr",
        "colab_type": "code",
        "colab": {
          "base_uri": "https://localhost:8080/",
          "height": 34
        },
        "outputId": "1dae2a83-cf50-4cdf-b279-711a7c871d27"
      },
      "source": [
        "np.argmax(predictions[0])"
      ],
      "execution_count": null,
      "outputs": [
        {
          "output_type": "execute_result",
          "data": {
            "text/plain": [
              "9"
            ]
          },
          "metadata": {
            "tags": []
          },
          "execution_count": 25
        }
      ]
    },
    {
      "cell_type": "code",
      "metadata": {
        "id": "IBP3dZW1_J9a",
        "colab_type": "code",
        "colab": {
          "base_uri": "https://localhost:8080/",
          "height": 34
        },
        "outputId": "da44c8dc-e860-4350-dccc-237207cefc92"
      },
      "source": [
        "test_labels[0]"
      ],
      "execution_count": null,
      "outputs": [
        {
          "output_type": "execute_result",
          "data": {
            "text/plain": [
              "9"
            ]
          },
          "metadata": {
            "tags": []
          },
          "execution_count": 26
        }
      ]
    },
    {
      "cell_type": "code",
      "metadata": {
        "id": "8kOdsbcG_UlO",
        "colab_type": "code",
        "colab": {}
      },
      "source": [
        "def plot_image(i, predictions_array, true_label, img):\n",
        "  predictions_array, true_label, img = predictions_array[i], true_label[i], img[i]\n",
        "  plt.grid(False)\n",
        "  plt.xticks([])\n",
        "  plt.yticks([])\n",
        "  \n",
        "  plt.imshow(img, cmap=plt.cm.binary)\n",
        "\n",
        "  predicted_label = np.argmax(predictions_array)\n",
        "  if predicted_label == true_label:\n",
        "    color = 'blue'\n",
        "  else:\n",
        "    color = 'red'\n",
        "  \n",
        "  plt.xlabel(\"{} {:2.0f}% ({})\".format(class_names[predicted_label],\n",
        "                                100*np.max(predictions_array),\n",
        "                                class_names[true_label]),\n",
        "                                color=color)\n",
        "\n",
        "def plot_value_array(i, predictions_array, true_label):\n",
        "  predictions_array, true_label = predictions_array[i], true_label[i]\n",
        "  plt.grid(False)\n",
        "  plt.xticks([])\n",
        "  plt.yticks([])\n",
        "  thisplot = plt.bar(range(10), predictions_array, color=\"#777777\")\n",
        "  plt.ylim([0, 1]) \n",
        "  predicted_label = np.argmax(predictions_array)\n",
        " \n",
        "  thisplot[predicted_label].set_color('red')\n",
        "  thisplot[true_label].set_color('blue')"
      ],
      "execution_count": null,
      "outputs": []
    },
    {
      "cell_type": "code",
      "metadata": {
        "id": "OhynSrbD_usI",
        "colab_type": "code",
        "colab": {
          "base_uri": "https://localhost:8080/",
          "height": 203
        },
        "outputId": "8258f6c3-713d-44b1-b496-644f832d4e16"
      },
      "source": [
        "i = 0\n",
        "plt.figure(figsize=(6,3))\n",
        "plt.subplot(1,2,1)\n",
        "plot_image(i, predictions, test_labels, test_images)\n",
        "plt.subplot(1,2,2)\n",
        "plot_value_array(i, predictions,  test_labels)\n",
        "plt.show()"
      ],
      "execution_count": null,
      "outputs": [
        {
          "output_type": "display_data",
          "data": {
            "image/png": "[encoded data removed]",
            "text/plain": [
              "<Figure size 432x216 with 2 Axes>"
            ]
          },
          "metadata": {
            "tags": []
          }
        }
      ]
    },
    {
      "cell_type": "code",
      "metadata": {
        "id": "RPHqkj7G_85Z",
        "colab_type": "code",
        "colab": {
          "base_uri": "https://localhost:8080/",
          "height": 203
        },
        "outputId": "847d497f-691d-47cf-9ba2-affcefafe4f4"
      },
      "source": [
        "i = 12\n",
        "plt.figure(figsize=(6,3))\n",
        "plt.subplot(1,2,1)\n",
        "plot_image(i, predictions, test_labels, test_images)\n",
        "plt.subplot(1,2,2)\n",
        "plot_value_array(i, predictions,  test_labels)\n",
        "plt.show()"
      ],
      "execution_count": null,
      "outputs": [
        {
          "output_type": "display_data",
          "data": {
            "image/png": "[encoded data removed]",
            "text/plain": [
              "<Figure size 432x216 with 2 Axes>"
            ]
          },
          "metadata": {
            "tags": []
          }
        }
      ]
    },
    {
      "cell_type": "code",
      "metadata": {
        "id": "rvPNj5i_BZRn",
        "colab_type": "code",
        "colab": {
          "base_uri": "https://localhost:8080/",
          "height": 589
        },
        "outputId": "406a7971-0ad6-42c2-fefb-63f77b27c1c1"
      },
      "source": [
        "# Plot the first X test images, their predicted label, and the true label\n",
        "# Color correct predictions in blue, incorrect predictions in red\n",
        "num_rows = 5\n",
        "num_cols = 3\n",
        "num_images = num_rows*num_cols\n",
        "plt.figure(figsize=(2*2*num_cols, 2*num_rows))\n",
        "for i in range(num_images):\n",
        "  plt.subplot(num_rows, 2*num_cols, 2*i+1)\n",
        "  plot_image(i, predictions, test_labels, test_images)\n",
        "  plt.subplot(num_rows, 2*num_cols, 2*i+2)\n",
        "  plot_value_array(i, predictions, test_labels)\n",
        "plt.show()"
      ],
      "execution_count": null,
      "outputs": [
        {
          "output_type": "display_data",
          "data": {
            "image/png": "[encoded data removed]",
            "text/plain": [
              "<Figure size 864x720 with 30 Axes>"
            ]
          },
          "metadata": {
            "tags": []
          }
        }
      ]
    },
    {
      "cell_type": "code",
      "metadata": {
        "id": "YM6pxMlQBuAp",
        "colab_type": "code",
        "colab": {
          "base_uri": "https://localhost:8080/",
          "height": 34
        },
        "outputId": "9be2e630-5557-4cd9-dd30-f892cc9f8b7a"
      },
      "source": [
        "# Grab an image from the test dataset\n",
        "img = test_images[0]\n",
        "\n",
        "print(img.shape)"
      ],
      "execution_count": null,
      "outputs": [
        {
          "output_type": "stream",
          "text": [
            "(28, 28)\n"
          ],
          "name": "stdout"
        }
      ]
    },
    {
      "cell_type": "code",
      "metadata": {
        "id": "e0ShL_ADB3O1",
        "colab_type": "code",
        "colab": {
          "base_uri": "https://localhost:8080/",
          "height": 34
        },
        "outputId": "38f75784-4a7b-483c-d8ea-ba2e6f0fd0de"
      },
      "source": [
        "# Add the image to a batch where it's the only member.\n",
        "img = (np.expand_dims(img,0))\n",
        "\n",
        "print(img.shape)"
      ],
      "execution_count": null,
      "outputs": [
        {
          "output_type": "stream",
          "text": [
            "(1, 28, 28)\n"
          ],
          "name": "stdout"
        }
      ]
    },
    {
      "cell_type": "code",
      "metadata": {
        "id": "gLabLofqCKKF",
        "colab_type": "code",
        "colab": {
          "base_uri": "https://localhost:8080/",
          "height": 51
        },
        "outputId": "2149465c-6796-4027-acd2-3c17ba71913f"
      },
      "source": [
        "predictions_single = model.predict(img)\n",
        "\n",
        "print(predictions_single)"
      ],
      "execution_count": null,
      "outputs": [
        {
          "output_type": "stream",
          "text": [
            "[[5.7742972e-07 3.1954028e-07 8.1018703e-07 1.7677168e-08 4.2705582e-07\n",
            "  2.9443074e-03 5.6277156e-07 1.2206430e-02 6.1677142e-06 9.8484033e-01]]\n"
          ],
          "name": "stdout"
        }
      ]
    },
    {
      "cell_type": "code",
      "metadata": {
        "id": "ETkdO1EwCVf0",
        "colab_type": "code",
        "colab": {
          "base_uri": "https://localhost:8080/",
          "height": 377
        },
        "outputId": "4f6d007e-0b99-464b-d5a4-3b61d5fe781c"
      },
      "source": [
        "plot_value_array(0, predictions_single, test_labels)\n",
        "_ = plt.xticks(range(10), class_names, rotation=45)"
      ],
      "execution_count": null,
      "outputs": [
        {
          "output_type": "display_data",
          "data": {
            "image/png": "[encoded data removed]",
            "text/plain": [
              "<Figure size 576x396 with 1 Axes>"
            ]
          },
          "metadata": {
            "tags": []
          }
        }
      ]
    }
  ]
}